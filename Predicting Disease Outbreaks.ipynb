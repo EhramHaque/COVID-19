{
 "cells": [
  {
   "cell_type": "code",
   "execution_count": 13,
   "id": "cc6d1490",
   "metadata": {},
   "outputs": [],
   "source": [
    "import pandas as pd\n",
    "import matplotlib.pyplot as plt"
   ]
  },
  {
   "cell_type": "code",
   "execution_count": 14,
   "id": "f3002ed6",
   "metadata": {},
   "outputs": [
    {
     "data": {
      "text/plain": [
       "{'country_wise_latest':   Country/Region  Confirmed  Deaths  Recovered  Active  New cases  New deaths  \\\n",
       " 0    Afghanistan      36263    1269      25198    9796        106          10   \n",
       " 1        Albania       4880     144       2745    1991        117           6   \n",
       " 2        Algeria      27973    1163      18837    7973        616           8   \n",
       " 3        Andorra        907      52        803      52         10           0   \n",
       " 4         Angola        950      41        242     667         18           1   \n",
       " \n",
       "    New recovered  Deaths / 100 Cases  Recovered / 100 Cases  \\\n",
       " 0             18                3.50                  69.49   \n",
       " 1             63                2.95                  56.25   \n",
       " 2            749                4.16                  67.34   \n",
       " 3              0                5.73                  88.53   \n",
       " 4              0                4.32                  25.47   \n",
       " \n",
       "    Deaths / 100 Recovered  Confirmed last week  1 week change  \\\n",
       " 0                    5.04                35526            737   \n",
       " 1                    5.25                 4171            709   \n",
       " 2                    6.17                23691           4282   \n",
       " 3                    6.48                  884             23   \n",
       " 4                   16.94                  749            201   \n",
       " \n",
       "    1 week % increase             WHO Region  \n",
       " 0               2.07  Eastern Mediterranean  \n",
       " 1              17.00                 Europe  \n",
       " 2              18.07                 Africa  \n",
       " 3               2.60                 Europe  \n",
       " 4              26.84                 Africa  ,\n",
       " 'covid_19_clean_complete':   Province/State Country/Region       Lat       Long        Date  Confirmed  \\\n",
       " 0            NaN    Afghanistan  33.93911  67.709953  2020-01-22          0   \n",
       " 1            NaN        Albania  41.15330  20.168300  2020-01-22          0   \n",
       " 2            NaN        Algeria  28.03390   1.659600  2020-01-22          0   \n",
       " 3            NaN        Andorra  42.50630   1.521800  2020-01-22          0   \n",
       " 4            NaN         Angola -11.20270  17.873900  2020-01-22          0   \n",
       " \n",
       "    Deaths  Recovered  Active             WHO Region  \n",
       " 0       0          0       0  Eastern Mediterranean  \n",
       " 1       0          0       0                 Europe  \n",
       " 2       0          0       0                 Africa  \n",
       " 3       0          0       0                 Europe  \n",
       " 4       0          0       0                 Africa  ,\n",
       " 'day_wise':          Date  Confirmed  Deaths  Recovered  Active  New cases  New deaths  \\\n",
       " 0  2020-01-22        555      17         28     510          0           0   \n",
       " 1  2020-01-23        654      18         30     606         99           1   \n",
       " 2  2020-01-24        941      26         36     879        287           8   \n",
       " 3  2020-01-25       1434      42         39    1353        493          16   \n",
       " 4  2020-01-26       2118      56         52    2010        684          14   \n",
       " \n",
       "    New recovered  Deaths / 100 Cases  Recovered / 100 Cases  \\\n",
       " 0              0                3.06                   5.05   \n",
       " 1              2                2.75                   4.59   \n",
       " 2              6                2.76                   3.83   \n",
       " 3              3                2.93                   2.72   \n",
       " 4             13                2.64                   2.46   \n",
       " \n",
       "    Deaths / 100 Recovered  No. of countries  \n",
       " 0                   60.71                 6  \n",
       " 1                   60.00                 8  \n",
       " 2                   72.22                 9  \n",
       " 3                  107.69                11  \n",
       " 4                  107.69                13  ,\n",
       " 'full_grouped':          Date Country/Region  Confirmed  Deaths  Recovered  Active  New cases  \\\n",
       " 0  2020-01-22    Afghanistan          0       0          0       0          0   \n",
       " 1  2020-01-22        Albania          0       0          0       0          0   \n",
       " 2  2020-01-22        Algeria          0       0          0       0          0   \n",
       " 3  2020-01-22        Andorra          0       0          0       0          0   \n",
       " 4  2020-01-22         Angola          0       0          0       0          0   \n",
       " \n",
       "    New deaths  New recovered             WHO Region  \n",
       " 0           0              0  Eastern Mediterranean  \n",
       " 1           0              0                 Europe  \n",
       " 2           0              0                 Africa  \n",
       " 3           0              0                 Europe  \n",
       " 4           0              0                 Africa  ,\n",
       " 'usa_county_wise':         UID iso2 iso3  code3     FIPS    Admin2            Province_State  \\\n",
       " 0        16   AS  ASM     16     60.0       NaN            American Samoa   \n",
       " 1       316   GU  GUM    316     66.0       NaN                      Guam   \n",
       " 2       580   MP  MNP    580     69.0       NaN  Northern Mariana Islands   \n",
       " 3  63072001   PR  PRI    630  72001.0  Adjuntas               Puerto Rico   \n",
       " 4  63072003   PR  PRI    630  72003.0    Aguada               Puerto Rico   \n",
       " \n",
       "   Country_Region        Lat       Long_                  Combined_Key  \\\n",
       " 0             US -14.271000 -170.132000            American Samoa, US   \n",
       " 1             US  13.444300  144.793700                      Guam, US   \n",
       " 2             US  15.097900  145.673900  Northern Mariana Islands, US   \n",
       " 3             US  18.180117  -66.754367     Adjuntas, Puerto Rico, US   \n",
       " 4             US  18.360255  -67.175131       Aguada, Puerto Rico, US   \n",
       " \n",
       "       Date  Confirmed  Deaths  \n",
       " 0  1/22/20          0       0  \n",
       " 1  1/22/20          0       0  \n",
       " 2  1/22/20          0       0  \n",
       " 3  1/22/20          0       0  \n",
       " 4  1/22/20          0       0  ,\n",
       " 'worldometer_data':   Country/Region      Continent    Population  TotalCases  NewCases  \\\n",
       " 0            USA  North America  3.311981e+08     5032179       NaN   \n",
       " 1         Brazil  South America  2.127107e+08     2917562       NaN   \n",
       " 2          India           Asia  1.381345e+09     2025409       NaN   \n",
       " 3         Russia         Europe  1.459409e+08      871894       NaN   \n",
       " 4   South Africa         Africa  5.938157e+07      538184       NaN   \n",
       " \n",
       "    TotalDeaths  NewDeaths  TotalRecovered  NewRecovered  ActiveCases  \\\n",
       " 0     162804.0        NaN       2576668.0           NaN    2292707.0   \n",
       " 1      98644.0        NaN       2047660.0           NaN     771258.0   \n",
       " 2      41638.0        NaN       1377384.0           NaN     606387.0   \n",
       " 3      14606.0        NaN        676357.0           NaN     180931.0   \n",
       " 4       9604.0        NaN        387316.0           NaN     141264.0   \n",
       " \n",
       "    Serious,Critical  Tot Cases/1M pop  Deaths/1M pop  TotalTests  \\\n",
       " 0           18296.0           15194.0          492.0  63139605.0   \n",
       " 1            8318.0           13716.0          464.0  13206188.0   \n",
       " 2            8944.0            1466.0           30.0  22149351.0   \n",
       " 3            2300.0            5974.0          100.0  29716907.0   \n",
       " 4             539.0            9063.0          162.0   3149807.0   \n",
       " \n",
       "    Tests/1M pop      WHO Region  \n",
       " 0      190640.0        Americas  \n",
       " 1       62085.0        Americas  \n",
       " 2       16035.0  South-EastAsia  \n",
       " 3      203623.0          Europe  \n",
       " 4       53044.0          Africa  }"
      ]
     },
     "execution_count": 14,
     "metadata": {},
     "output_type": "execute_result"
    }
   ],
   "source": [
    "country_wise_latest = pd.read_csv('country_wise_latest.csv')\n",
    "covid_19_clean_complete = pd.read_csv('covid_19_clean_complete.csv')\n",
    "day_wise = pd.read_csv('day_wise.csv')\n",
    "full_grouped = pd.read_csv('full_grouped.csv')\n",
    "usa_county_wise = pd.read_csv('usa_county_wise.csv')\n",
    "worldometer_data = pd.read_csv('worldometer_data.csv')\n",
    "\n",
    "{\n",
    "    \"country_wise_latest\": country_wise_latest.head(),\n",
    "    \"covid_19_clean_complete\": covid_19_clean_complete.head(),\n",
    "    \"day_wise\": day_wise.head(),\n",
    "    \"full_grouped\": full_grouped.head(),\n",
    "    \"usa_county_wise\": usa_county_wise.head(),\n",
    "    \"worldometer_data\": worldometer_data.head(),\n",
    "}"
   ]
  },
  {
   "cell_type": "code",
   "execution_count": 16,
   "id": "860cecf1",
   "metadata": {},
   "outputs": [
    {
     "data": {
      "image/png": "[encoded data removed]",
      "text/plain": [
       "<Figure size 720x432 with 1 Axes>"
      ]
     },
     "metadata": {
      "needs_background": "light"
     },
     "output_type": "display_data"
    }
   ],
   "source": [
    "#Top ten countries with the most confirmed cases\n",
    "top_10_countries = country_wise_latest[['Country/Region', 'Confirmed']].sort_values(by='Confirmed', ascending=False).head(10)\n",
    "\n",
    "plt.figure(figsize=(10,6))\n",
    "plt.barh(top_10_countries['Country/Region'], top_10_countries['Confirmed'], color='skyblue')\n",
    "plt.xlabel('Confirmed Cases')\n",
    "plt.title('Top 10 Countries with Most Confirmed COVID-19 Cases')\n",
    "plt.gca().invert_yaxis()\n",
    "plt.show()"
   ]
  },
  {
   "cell_type": "code",
   "execution_count": 17,
   "id": "870cff00",
   "metadata": {},
   "outputs": [
    {
     "data": {
      "image/png": "[encoded data removed]",
      "text/plain": [
       "<Figure size 720x432 with 1 Axes>"
      ]
     },
     "metadata": {
      "needs_background": "light"
     },
     "output_type": "display_data"
    }
   ],
   "source": [
    "#Calculates death rates\n",
    "country_wise_latest['Death Rate (%)'] = (country_wise_latest['Deaths'] / country_wise_latest['Confirmed']) * 100\n",
    "\n",
    "#Shows the top ten countries with the highest death rates\n",
    "top_10_death_rates = country_wise_latest[['Country/Region', 'Death Rate (%)']].sort_values(by='Death Rate (%)', ascending=False).head(10)\n",
    "\n",
    "plt.figure(figsize=(10,6))\n",
    "plt.barh(top_10_death_rates['Country/Region'], top_10_death_rates['Death Rate (%)'], color='salmon')\n",
    "plt.xlabel('Death Rate (%)')\n",
    "plt.title('Top 10 Countries with Highest COVID-19 Death Rates')\n",
    "plt.gca().invert_yaxis()\n",
    "plt.show()"
   ]
  },
  {
   "cell_type": "code",
   "execution_count": null,
   "id": "4bedc6fa",
   "metadata": {},
   "outputs": [],
   "source": []
  }
 ],
 "metadata": {
  "kernelspec": {
   "display_name": "Python 3 (ipykernel)",
   "language": "python",
   "name": "python3"
  },
  "language_info": {
   "codemirror_mode": {
    "name": "ipython",
    "version": 3
   },
   "file_extension": ".py",
   "mimetype": "text/x-python",
   "name": "python",
   "nbconvert_exporter": "python",
   "pygments_lexer": "ipython3",
   "version": "3.9.12"
  }
 },
 "nbformat": 4,
 "nbformat_minor": 5
}
