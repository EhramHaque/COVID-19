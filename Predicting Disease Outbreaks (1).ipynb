{
 "cells": [
  {
   "cell_type": "code",
   "execution_count": 2,
   "id": "cc6d1490",
   "metadata": {},
   "outputs": [],
   "source": [
    "import pandas as pd\n",
    "import matplotlib.pyplot as plt"
   ]
  },
  {
   "cell_type": "code",
   "execution_count": 4,
   "id": "f3002ed6",
   "metadata": {},
   "outputs": [
    {
     "name": "stdout",
     "output_type": "stream",
     "text": [
      "<class 'pandas.core.frame.DataFrame'>\n",
      "RangeIndex: 187 entries, 0 to 186\n",
      "Data columns (total 15 columns):\n",
      " #   Column                  Non-Null Count  Dtype  \n",
      "---  ------                  --------------  -----  \n",
      " 0   Country/Region          187 non-null    object \n",
      " 1   Confirmed               187 non-null    int64  \n",
      " 2   Deaths                  187 non-null    int64  \n",
      " 3   Recovered               187 non-null    int64  \n",
      " 4   Active                  187 non-null    int64  \n",
      " 5   New cases               187 non-null    int64  \n",
      " 6   New deaths              187 non-null    int64  \n",
      " 7   New recovered           187 non-null    int64  \n",
      " 8   Deaths / 100 Cases      187 non-null    float64\n",
      " 9   Recovered / 100 Cases   187 non-null    float64\n",
      " 10  Deaths / 100 Recovered  187 non-null    float64\n",
      " 11  Confirmed last week     187 non-null    int64  \n",
      " 12  1 week change           187 non-null    int64  \n",
      " 13  1 week % increase       187 non-null    float64\n",
      " 14  WHO Region              187 non-null    object \n",
      "dtypes: float64(4), int64(9), object(2)\n",
      "memory usage: 22.0+ KB\n",
      "<class 'pandas.core.frame.DataFrame'>\n",
      "RangeIndex: 49068 entries, 0 to 49067\n",
      "Data columns (total 10 columns):\n",
      " #   Column          Non-Null Count  Dtype  \n",
      "---  ------          --------------  -----  \n",
      " 0   Province/State  14664 non-null  object \n",
      " 1   Country/Region  49068 non-null  object \n",
      " 2   Lat             49068 non-null  float64\n",
      " 3   Long            49068 non-null  float64\n",
      " 4   Date            49068 non-null  object \n",
      " 5   Confirmed       49068 non-null  int64  \n",
      " 6   Deaths          49068 non-null  int64  \n",
      " 7   Recovered       49068 non-null  int64  \n",
      " 8   Active          49068 non-null  int64  \n",
      " 9   WHO Region      49068 non-null  object \n",
      "dtypes: float64(2), int64(4), object(4)\n",
      "memory usage: 3.7+ MB\n",
      "<class 'pandas.core.frame.DataFrame'>\n",
      "RangeIndex: 188 entries, 0 to 187\n",
      "Data columns (total 12 columns):\n",
      " #   Column                  Non-Null Count  Dtype  \n",
      "---  ------                  --------------  -----  \n",
      " 0   Date                    188 non-null    object \n",
      " 1   Confirmed               188 non-null    int64  \n",
      " 2   Deaths                  188 non-null    int64  \n",
      " 3   Recovered               188 non-null    int64  \n",
      " 4   Active                  188 non-null    int64  \n",
      " 5   New cases               188 non-null    int64  \n",
      " 6   New deaths              188 non-null    int64  \n",
      " 7   New recovered           188 non-null    int64  \n",
      " 8   Deaths / 100 Cases      188 non-null    float64\n",
      " 9   Recovered / 100 Cases   188 non-null    float64\n",
      " 10  Deaths / 100 Recovered  188 non-null    float64\n",
      " 11  No. of countries        188 non-null    int64  \n",
      "dtypes: float64(3), int64(8), object(1)\n",
      "memory usage: 17.8+ KB\n",
      "<class 'pandas.core.frame.DataFrame'>\n",
      "RangeIndex: 35156 entries, 0 to 35155\n",
      "Data columns (total 10 columns):\n",
      " #   Column          Non-Null Count  Dtype \n",
      "---  ------          --------------  ----- \n",
      " 0   Date            35156 non-null  object\n",
      " 1   Country/Region  35156 non-null  object\n",
      " 2   Confirmed       35156 non-null  int64 \n",
      " 3   Deaths          35156 non-null  int64 \n",
      " 4   Recovered       35156 non-null  int64 \n",
      " 5   Active          35156 non-null  int64 \n",
      " 6   New cases       35156 non-null  int64 \n",
      " 7   New deaths      35156 non-null  int64 \n",
      " 8   New recovered   35156 non-null  int64 \n",
      " 9   WHO Region      35156 non-null  object\n",
      "dtypes: int64(7), object(3)\n",
      "memory usage: 2.7+ MB\n",
      "<class 'pandas.core.frame.DataFrame'>\n",
      "RangeIndex: 209 entries, 0 to 208\n",
      "Data columns (total 16 columns):\n",
      " #   Column            Non-Null Count  Dtype  \n",
      "---  ------            --------------  -----  \n",
      " 0   Country/Region    209 non-null    object \n",
      " 1   Continent         208 non-null    object \n",
      " 2   Population        208 non-null    float64\n",
      " 3   TotalCases        209 non-null    int64  \n",
      " 4   NewCases          4 non-null      float64\n",
      " 5   TotalDeaths       188 non-null    float64\n",
      " 6   NewDeaths         3 non-null      float64\n",
      " 7   TotalRecovered    205 non-null    float64\n",
      " 8   NewRecovered      3 non-null      float64\n",
      " 9   ActiveCases       205 non-null    float64\n",
      " 10  Serious,Critical  122 non-null    float64\n",
      " 11  Tot Cases/1M pop  208 non-null    float64\n",
      " 12  Deaths/1M pop     187 non-null    float64\n",
      " 13  TotalTests        191 non-null    float64\n",
      " 14  Tests/1M pop      191 non-null    float64\n",
      " 15  WHO Region        184 non-null    object \n",
      "dtypes: float64(12), int64(1), object(3)\n",
      "memory usage: 26.2+ KB\n"
     ]
    },
    {
     "data": {
      "text/plain": [
       "(None, None, None, None, None)"
      ]
     },
     "execution_count": 4,
     "metadata": {},
     "output_type": "execute_result"
    }
   ],
   "source": [
    "country_wise_latest = pd.read_csv('country_wise_latest.csv')\n",
    "covid_19_clean_complete = pd.read_csv('covid_19_clean_complete.csv')\n",
    "day_wise = pd.read_csv('day_wise.csv')\n",
    "full_grouped = pd.read_csv('full_grouped.csv')\n",
    "worldometer_data = pd.read_csv('worldometer_data.csv')\n",
    "\n",
    "country_wise_latest_info = country_wise_latest.info()\n",
    "covid_19_clean_complete_info = covid_19_clean_complete.info()\n",
    "day_wise_info = day_wise.info()\n",
    "full_grouped_info = full_grouped.info()\n",
    "worldometer_data_info = worldometer_data.info()\n",
    "\n",
    "(country_wise_latest_info, covid_19_clean_complete_info, day_wise_info, full_grouped_info, worldometer_data_info)"
   ]
  },
  {
   "cell_type": "markdown",
   "id": "d7042e05",
   "metadata": {},
   "source": [
    "## Basic Info about the datasets"
   ]
  },
  {
   "cell_type": "markdown",
   "id": "82456269",
   "metadata": {},
   "source": [
    "country_wise_latest.csv:\n",
    "- Has 187 records with 15 columns. Includes information like country/region, confirmed, deaths, active, new cases, and percentage metrics like deaths/100 cases.\n",
    "\n",
    "covid_19_clean_complete.csv:\n",
    "- Has 49,068 records with 10 columns, like Province/State, Country/region, Latitude, Longitude, Date, Confirmed Cases, Deaths, and people recovered\n",
    "\n",
    "day_wise.csv:\n",
    "- Has 188 records with 12 columns.\n",
    "\n",
    "full_grouped.csv:\n",
    "- Has 35,156 records with 10 columns. Similar to the covid_19_clean_complete dataset, but this dataset is organized by date and country\n",
    "\n",
    "worlometer_data.csv:\n",
    "- Has 209 records and 16 columns. "
   ]
  },
  {
   "cell_type": "code",
   "execution_count": 5,
   "id": "7f9eaceb",
   "metadata": {},
   "outputs": [
    {
     "name": "stdout",
     "output_type": "stream",
     "text": [
      "<class 'pandas.core.frame.DataFrame'>\n",
      "Int64Index: 35156 entries, 0 to 35155\n",
      "Data columns (total 25 columns):\n",
      " #   Column            Non-Null Count  Dtype         \n",
      "---  ------            --------------  -----         \n",
      " 0   Date              35156 non-null  datetime64[ns]\n",
      " 1   Country/Region    35156 non-null  object        \n",
      " 2   Confirmed         35156 non-null  int64         \n",
      " 3   Deaths            35156 non-null  int64         \n",
      " 4   Recovered         35156 non-null  int64         \n",
      " 5   Active            35156 non-null  int64         \n",
      " 6   New cases         35156 non-null  int64         \n",
      " 7   New deaths        35156 non-null  int64         \n",
      " 8   New recovered     35156 non-null  int64         \n",
      " 9   WHO Region_x      35156 non-null  object        \n",
      " 10  Continent         32148 non-null  object        \n",
      " 11  Population        32148 non-null  float64       \n",
      " 12  TotalCases        32148 non-null  float64       \n",
      " 13  NewCases          564 non-null    float64       \n",
      " 14  TotalDeaths       29892 non-null  float64       \n",
      " 15  NewDeaths         376 non-null    float64       \n",
      " 16  TotalRecovered    31584 non-null  float64       \n",
      " 17  NewRecovered      376 non-null    float64       \n",
      " 18  ActiveCases       31584 non-null  float64       \n",
      " 19  Serious,Critical  20304 non-null  float64       \n",
      " 20  Tot Cases/1M pop  32148 non-null  float64       \n",
      " 21  Deaths/1M pop     29892 non-null  float64       \n",
      " 22  TotalTests        29516 non-null  float64       \n",
      " 23  Tests/1M pop      29516 non-null  float64       \n",
      " 24  WHO Region_y      32148 non-null  object        \n",
      "dtypes: datetime64[ns](1), float64(13), int64(7), object(4)\n",
      "memory usage: 7.0+ MB\n"
     ]
    },
    {
     "data": {
      "text/plain": [
       "(None,\n",
       " Date                    0\n",
       " Country/Region          0\n",
       " Confirmed               0\n",
       " Deaths                  0\n",
       " Recovered               0\n",
       " Active                  0\n",
       " New cases               0\n",
       " New deaths              0\n",
       " New recovered           0\n",
       " WHO Region_x            0\n",
       " Continent            3008\n",
       " Population           3008\n",
       " TotalCases           3008\n",
       " NewCases            34592\n",
       " TotalDeaths          5264\n",
       " NewDeaths           34780\n",
       " TotalRecovered       3572\n",
       " NewRecovered        34780\n",
       " ActiveCases          3572\n",
       " Serious,Critical    14852\n",
       " Tot Cases/1M pop     3008\n",
       " Deaths/1M pop        5264\n",
       " TotalTests           5640\n",
       " Tests/1M pop         5640\n",
       " WHO Region_y         3008\n",
       " dtype: int64)"
      ]
     },
     "execution_count": 5,
     "metadata": {},
     "output_type": "execute_result"
    }
   ],
   "source": [
    "covid_19_clean_complete['Date'] = pd.to_datetime(covid_19_clean_complete['Date'])\n",
    "full_grouped['Date'] = pd.to_datetime(full_grouped['Date'])\n",
    "day_wise['Date'] = pd.to_datetime(day_wise['Date'])\n",
    "\n",
    "merged_data = pd.merge(full_grouped, worldometer_data, on='Country/Region', how='left')\n",
    "\n",
    "missing_values = merged_data.isnull().sum()\n",
    "\n",
    "merged_data_info = merged_data.info()\n",
    "(merged_data_info, missing_values)"
   ]
  },
  {
   "cell_type": "code",
   "execution_count": 8,
   "id": "b436ce7f",
   "metadata": {},
   "outputs": [
    {
     "data": {
      "text/plain": [
       "Date                   0\n",
       "Country/Region         0\n",
       "Confirmed              0\n",
       "Deaths                 0\n",
       "Recovered              0\n",
       "Active                 0\n",
       "New cases              0\n",
       "New deaths             0\n",
       "New recovered          0\n",
       "WHO Region_x           0\n",
       "Continent              0\n",
       "Population             0\n",
       "TotalCases             0\n",
       "NewCases               0\n",
       "TotalDeaths            0\n",
       "NewDeaths              0\n",
       "TotalRecovered      3572\n",
       "NewRecovered           0\n",
       "ActiveCases            0\n",
       "Serious,Critical       0\n",
       "Tot Cases/1M pop    3008\n",
       "Deaths/1M pop       5264\n",
       "TotalTests          5640\n",
       "Tests/1M pop           0\n",
       "WHO Region_y        3008\n",
       "dtype: int64"
      ]
     },
     "execution_count": 8,
     "metadata": {},
     "output_type": "execute_result"
    }
   ],
   "source": [
    "#Handles missing data\n",
    "\n",
    "merged_data['Continent'].fillna(merged_data['Continent'].mode()[0], inplace=True)\n",
    "merged_data['Population'].fillna(merged_data['Population'].median(), inplace=True)\n",
    "\n",
    "merged_data['TotalCases'].fillna(method='ffill', inplace=True)\n",
    "merged_data['TotalDeaths'].fillna(method='ffill', inplace=True)\n",
    "merged_data['ActiveCases'].fillna(method='ffill', inplace=True)\n",
    "\n",
    "merged_data['NewCases'].fillna(0, inplace=True)\n",
    "merged_data['NewDeaths'].fillna(0, inplace=True)\n",
    "merged_data['NewRecovered'].fillna(0, inplace=True)\n",
    "\n",
    "merged_data['Serious,Critical'].fillna(merged_data['Serious,Critical'].median(), inplace=True)\n",
    "merged_data['Tests/1M pop'].fillna(merged_data['Tests/1M pop'].median(), inplace=True)\n",
    "\n",
    "#Checks for missing values\n",
    "remaining_missing_values = merged_data.isnull().sum()\n",
    "\n",
    "remaining_missing_values"
   ]
  },
  {
   "cell_type": "code",
   "execution_count": 16,
   "id": "860cecf1",
   "metadata": {},
   "outputs": [
    {
     "data": {
      "image/png": "[encoded data removed]",
      "text/plain": [
       "<Figure size 720x432 with 1 Axes>"
      ]
     },
     "metadata": {
      "needs_background": "light"
     },
     "output_type": "display_data"
    }
   ],
   "source": [
    "#Top ten countries with the most confirmed cases\n",
    "top_10_countries = country_wise_latest[['Country/Region', 'Confirmed']].sort_values(by='Confirmed', ascending=False).head(10)\n",
    "\n",
    "plt.figure(figsize=(10,6))\n",
    "plt.barh(top_10_countries['Country/Region'], top_10_countries['Confirmed'], color='skyblue')\n",
    "plt.xlabel('Confirmed Cases')\n",
    "plt.title('Top 10 Countries with Most Confirmed COVID-19 Cases')\n",
    "plt.gca().invert_yaxis()\n",
    "plt.show()"
   ]
  },
  {
   "cell_type": "code",
   "execution_count": 17,
   "id": "870cff00",
   "metadata": {},
   "outputs": [
    {
     "data": {
      "image/png": "[encoded data removed]",
      "text/plain": [
       "<Figure size 720x432 with 1 Axes>"
      ]
     },
     "metadata": {
      "needs_background": "light"
     },
     "output_type": "display_data"
    }
   ],
   "source": [
    "#Calculates death rates\n",
    "country_wise_latest['Death Rate (%)'] = (country_wise_latest['Deaths'] / country_wise_latest['Confirmed']) * 100\n",
    "\n",
    "#Shows the top ten countries with the highest death rates\n",
    "top_10_death_rates = country_wise_latest[['Country/Region', 'Death Rate (%)']].sort_values(by='Death Rate (%)', ascending=False).head(10)\n",
    "\n",
    "plt.figure(figsize=(10,6))\n",
    "plt.barh(top_10_death_rates['Country/Region'], top_10_death_rates['Death Rate (%)'], color='salmon')\n",
    "plt.xlabel('Death Rate (%)')\n",
    "plt.title('Top 10 Countries with Highest COVID-19 Death Rates')\n",
    "plt.gca().invert_yaxis()\n",
    "plt.show()"
   ]
  },
  {
   "cell_type": "code",
   "execution_count": 10,
   "id": "ab7a1fe4",
   "metadata": {},
   "outputs": [
    {
     "data": {
      "image/png": "[encoded data removed]",
      "text/plain": [
       "<Figure size 864x576 with 1 Axes>"
      ]
     },
     "metadata": {
      "needs_background": "light"
     },
     "output_type": "display_data"
    }
   ],
   "source": [
    "# Convert date columns to datetime format for easier manipulation\n",
    "covid_19_clean_complete['Date'] = pd.to_datetime(covid_19_clean_complete['Date'])\n",
    "full_grouped['Date'] = pd.to_datetime(full_grouped['Date'])\n",
    "day_wise['Date'] = pd.to_datetime(day_wise['Date'])\n",
    "\n",
    "# Merge datasets on 'Country/Region' to include demographic and health-related data from worldometer_data\n",
    "merged_data = pd.merge(full_grouped, worldometer_data, on='Country/Region', how='left')\n",
    "\n",
    "# Fill missing 'Continent' and 'Population' with mode for simplicity\n",
    "merged_data['Continent'].fillna(merged_data['Continent'].mode()[0], inplace=True)\n",
    "merged_data['Population'].fillna(merged_data['Population'].median(), inplace=True)\n",
    "\n",
    "# Forward fill missing values in cumulative columns\n",
    "merged_data['TotalCases'].fillna(method='ffill', inplace=True)\n",
    "merged_data['TotalDeaths'].fillna(method='ffill', inplace=True)\n",
    "merged_data['ActiveCases'].fillna(method='ffill', inplace=True)\n",
    "\n",
    "# Replace missing values in new cases and deaths with 0\n",
    "merged_data['NewCases'].fillna(0, inplace=True)\n",
    "merged_data['NewDeaths'].fillna(0, inplace=True)\n",
    "merged_data['NewRecovered'].fillna(0, inplace=True)\n",
    "\n",
    "# Group the data by date to visualize global trends\n",
    "global_trends = merged_data.groupby('Date').sum()\n",
    "\n",
    "# Plotting the trends for confirmed cases, deaths, and recovered cases\n",
    "plt.figure(figsize=(12, 8))\n",
    "\n",
    "# Plot Confirmed cases\n",
    "plt.plot(global_trends.index, global_trends['Confirmed'], label='Confirmed Cases', color='blue')\n",
    "\n",
    "# Plot Deaths\n",
    "plt.plot(global_trends.index, global_trends['Deaths'], label='Deaths', color='red')\n",
    "\n",
    "# Plot Recovered cases\n",
    "plt.plot(global_trends.index, global_trends['Recovered'], label='Recovered Cases', color='green')\n",
    "\n",
    "plt.title('Global COVID-19 Trends Over Time')\n",
    "plt.xlabel('Date')\n",
    "plt.ylabel('Number of Cases')\n",
    "plt.legend()\n",
    "\n",
    "# Show the plot\n",
    "plt.xticks(rotation=45)\n",
    "plt.grid(True)\n",
    "plt.tight_layout()\n",
    "plt.show()"
   ]
  },
  {
   "cell_type": "code",
   "execution_count": null,
   "id": "4b2506ba",
   "metadata": {},
   "outputs": [],
   "source": []
  }
 ],
 "metadata": {
  "kernelspec": {
   "display_name": "Python 3 (ipykernel)",
   "language": "python",
   "name": "python3"
  },
  "language_info": {
   "codemirror_mode": {
    "name": "ipython",
    "version": 3
   },
   "file_extension": ".py",
   "mimetype": "text/x-python",
   "name": "python",
   "nbconvert_exporter": "python",
   "pygments_lexer": "ipython3",
   "version": "3.9.12"
  }
 },
 "nbformat": 4,
 "nbformat_minor": 5
}
